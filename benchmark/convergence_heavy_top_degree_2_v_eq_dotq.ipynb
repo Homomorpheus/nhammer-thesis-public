{
 "cells": [
  {
   "cell_type": "markdown",
   "id": "38aa0b69-42d0-4ce5-b5a3-5689d6cd3ba2",
   "metadata": {},
   "source": [
    "# Convergence benchmark: Heavy top - polynomial approximation of degree $2 = j := \\text{deg } q$, with $v = \\dot{q}$\n",
    "\n",
    "see thesis -> Numerical experiments -> Degree $j = 2$ -> Version 1: $v = \\dot{q}$"
   ]
  },
  {
   "cell_type": "code",
   "execution_count": 1,
   "id": "4f6fbae5-4fe8-40b0-adbd-0c77c95fcb85",
   "metadata": {},
   "outputs": [],
   "source": [
    "import ngsolve\n",
    "if ngsolve.__version__ < \"6.2.2405-28\": \n",
    "    raise Exception(\"NGSolve too old, pls run 'pip3 install --upgrade --pre ngsolve'\")"
   ]
  },
  {
   "cell_type": "code",
   "execution_count": 2,
   "id": "a3a84b91-4b86-4a61-b13a-eba70deb04c2",
   "metadata": {},
   "outputs": [],
   "source": [
    "from ngsolve import *\n",
    "from netgen.occ import *\n",
    "import ipywidgets as widgets\n",
    "from ngsolve.comp import GlobalSpace\n",
    "from ngsolve.webgui import Draw\n",
    "from ngsolve.solvers import Newton\n",
    "from ngsolve.comp import DifferentialSymbol\n",
    "import numpy as np"
   ]
  },
  {
   "cell_type": "markdown",
   "id": "40e5439c-d9eb-4a72-af92-efb729470a52",
   "metadata": {},
   "source": [
    "## System parameter setup"
   ]
  },
  {
   "cell_type": "code",
   "execution_count": 3,
   "id": "952534b9-70b8-4835-a20f-fbe01b030360",
   "metadata": {},
   "outputs": [],
   "source": [
    "mass = 15\n",
    "Jxx = Jzz = 0.234375\n",
    "Jyy = 0.468750\n",
    "omega0 = CF( (0,150,-4.61538) )"
   ]
  },
  {
   "cell_type": "code",
   "execution_count": 4,
   "id": "8e630462-ccdb-49c6-b440-f5d4604a7f4b",
   "metadata": {},
   "outputs": [],
   "source": [
    "b = sqrt(3/2 * Jyy/mass)\n",
    "rho = mass/(4*b*b)     # kg/ m**2"
   ]
  },
  {
   "cell_type": "code",
   "execution_count": 5,
   "id": "1e0ff78f-349d-48f5-a079-7683b2edf06d",
   "metadata": {},
   "outputs": [
    {
     "data": {
      "application/vnd.jupyter.widget-view+json": {
       "model_id": "8c01f8073ac849b789de12ea0c5cfa33",
       "version_major": 2,
       "version_minor": 0
      },
      "text/plain": [
       "WebGuiWidget(layout=Layout(height='50vh', width='100%'), value={'gui_settings': {}, 'ngsolve_version': '6.2.25…"
      ]
     },
     "metadata": {},
     "output_type": "display_data"
    }
   ],
   "source": [
    "center = Pnt( (0,1,0) )\n",
    "disk = WorkPlane(Axes((0,1,0), Y)).RectangleC(2*b, 2*b).Face()\n",
    "shape = Glue ([disk, Segment( (0,0,0), (0,1,0)) ])\n",
    "shape.vertices.Min(Y).name=\"A\"\n",
    "mesh = Mesh(OCCGeometry(shape).GenerateMesh(maxh=3))\n",
    "Draw (mesh);"
   ]
  },
  {
   "cell_type": "markdown",
   "id": "586666a8-1989-45e0-a8db-40ebe7eb54fe",
   "metadata": {},
   "source": [
    "## Finite element space setup"
   ]
  },
  {
   "cell_type": "code",
   "execution_count": 6,
   "id": "30a3a6a8-1d51-43d0-9999-c1f443d2d6f6",
   "metadata": {},
   "outputs": [],
   "source": [
    "# tangent space representation\n",
    "RBshapes = CF ( ( 1, 0, 0,\n",
    "                  0, 1, 0,\n",
    "                  0, 0, 1,\n",
    "                  y, -x, 0,\n",
    "                  0, z, -y,\n",
    "                  -z, 0, x) ).Reshape((6,3)).Compile() # realcompile=True, wait=True)\n",
    "RBspace = GlobalSpace (mesh, order=1, basis = RBshapes)\n",
    "\n",
    "# basis of (equivalent to) symmetric matrices\n",
    "SYMshapes = CF ( ( 1, 0, 0, 0, 0, 0, 0, 0, 0,\n",
    "                   0, 0, 0, 0, 1, 0, 0, 0, 0,\n",
    "                   0, 0, 0, 0, 0, 0, 0, 0, 1,\n",
    "                   0, 1, 0, 1, 0, 0, 0, 0, 0,\n",
    "                   0, 0, 1, 0, 0, 0, 1, 0, 0,\n",
    "                   0, 0, 0, 0, 0, 1, 0, 1, 0) ).Reshape((6,9)).Compile() # realcompile=True, wait=True)\n",
    "SYMspace = GlobalSpace (mesh, order=1, basis = SYMshapes)\n",
    "\n",
    "# position space\n",
    "P1shapes = CF ( ( 1, 0, 0,\n",
    "                  0, 1, 0,\n",
    "                  0, 0, 1,\n",
    "                  x, 0, 0,\n",
    "                  0, x, 0,\n",
    "                  0, 0, x,\n",
    "                  y, 0, 0,\n",
    "                  0, y, 0,\n",
    "                  0, 0, y,\n",
    "                  z, 0, 0,\n",
    "                  0, z, 0,\n",
    "                  0, 0, z)).Reshape((12,3)).Compile() # realcompile=True, wait=True)\n",
    "P1space = GlobalSpace (mesh, order=1, basis = P1shapes)\n",
    "P1space.AddOperator(\"dx\", VOL, P1shapes.Diff(x))\n",
    "P1space.AddOperator(\"dy\", VOL, P1shapes.Diff(y))\n",
    "P1space.AddOperator(\"dz\", VOL, P1shapes.Diff(z))\n",
    "\n",
    "def MyGrad(gf):\n",
    "    return CF( (gf.Operator(\"dx\"), gf.Operator(\"dy\"), gf.Operator(\"dz\") )).Reshape((3,3)).trans\n",
    "def MyGradB(gf):\n",
    "    return CF( (gf.Operator(\"dx\", BND), gf.Operator(\"dy\", BND), gf.Operator(\"dz\", BND))).Reshape((3,3)).trans\n",
    "def MyGradBB(gf):\n",
    "    return CF( (gf.Operator(\"dx\", BBBND), gf.Operator(\"dy\", BBBND), gf.Operator(\"dz\", BBBND))).Reshape((3,3)).trans\n",
    "              "
   ]
  },
  {
   "cell_type": "code",
   "execution_count": 7,
   "id": "b1c88848-2364-4b33-b20b-e51768a3ff90",
   "metadata": {},
   "outputs": [],
   "source": [
    "fesR = NumberSpace(mesh)\n",
    "\n",
    "fes = P1space * P1space * RBspace * RBspace * RBspace * fesR**3 * fesR**3 * fesR**3\n",
    "festest = RBspace * RBspace * RBspace * RBspace * RBspace * SYMspace * SYMspace * fesR**3 * fesR**3 * fesR**3\n",
    "\n",
    "gfold = GridFunction(fes)\n",
    "gf = GridFunction(fes)\n",
    "\n",
    "\n",
    "qhalfold, qold, phatold, voldold, vnewold, lambdahalfold, lambdanewold, muold = gfold.components\n",
    "gfqhalf, gfqnew, gfphatnew, gfvold, gfvnew, gflambdahalf, gflambdanew, gfmu = gf.components\n",
    "\n",
    "qhalf, qnew, phatnew, vold, vnew, lambdahalf, lambdanew, mu = fes.TrialFunction()\n",
    "dpold, dpnew, dqold, dqhalf, dqnew, drothalf, drotnew, dlambdahalf, dlambdanew, dmu = festest.TestFunction()\n",
    "\n",
    "dvert = DifferentialSymbol(BBBND)"
   ]
  },
  {
   "cell_type": "code",
   "execution_count": 8,
   "id": "05620081-9948-4c07-b30a-71e6ecfd16b3",
   "metadata": {},
   "outputs": [],
   "source": [
    "# derivative of a quadratic polynomial given in Lagrange basis\n",
    "def quadratic_deriv(oldval, midval, newval, oldt, tau, t):\n",
    "    return (oldval * 2 * (2*t - (2*oldt + 1.5*tau))\n",
    "            - midval * 4 * (2*t - (2*oldt + tau))\n",
    "            + newval * 2 * (2*t - (2*oldt + 0.5*tau)))/(tau**2)\n",
    "    "
   ]
  },
  {
   "cell_type": "markdown",
   "id": "8839b06f-8c34-4d6c-b17f-2f6df496194e",
   "metadata": {},
   "source": [
    "## The equations"
   ]
  },
  {
   "cell_type": "code",
   "execution_count": 9,
   "id": "b147d593-ff62-47e2-958d-457d74f0d78f",
   "metadata": {
    "scrolled": true
   },
   "outputs": [],
   "source": [
    "force = CF( (0,0,-9.81*rho) )\n",
    "P0 = CF( (0, 0, 0) )\n",
    "\n",
    "tau = Parameter(0.0)\n",
    "\n",
    "t = 0\n",
    "\n",
    "qold.Set ( (x, y, z) )\n",
    "gfphatnew.Set ( rho*Cross (omega0, CF((x,y,z))) , definedon=mesh.Boundaries(\".*\") )\n",
    "\n",
    "# rotational part of q at different points in time\n",
    "Rnew = MyGrad(qnew)\n",
    "Rhalf = MyGrad(qhalf)\n",
    "Rold = MyGrad(qold)\n",
    "\n",
    "\n",
    "a = BilinearForm(trialspace=fes, testspace=festest)\n",
    "\n",
    "\n",
    "# What follows are the time stepper equations.\n",
    "\n",
    "# helper equations: dot q = v\n",
    "a += (1/6*(quadratic_deriv(qold, qhalf, qnew, t, tau, t) - Rold*vold) * (Rold*dpold)).Compile(realcompile=True, wait=True) * ds\n",
    "a += (1/6*(quadratic_deriv(qold, qhalf, qnew, t, tau, t+tau) - Rnew*vnew) * (Rnew*dpnew)).Compile(realcompile=True, wait=True) * ds\n",
    "\n",
    "# helper equations: p = rho*v\n",
    "pold = rho*vold\n",
    "pnew = rho*vnew\n",
    "\n",
    "# δq: dot p = f\n",
    "phalf = (pnew + pold)/2\n",
    "a += ((tau/6 * (force - (Rnew*pnew - Rold*pold)/tau) - Rold*(pold - phatold)) * (Rold * dqold)).Compile(realcompile=True, wait=True) * ds\n",
    "a += ((force - (Rnew*pnew - Rold*pold)/tau) * (Rhalf*dqhalf)).Compile(realcompile=True, wait=True) * ds\n",
    "a += ((tau/6 * (force - (Rnew*pnew - Rold*pold)/tau) + Rnew*(pnew - phatnew)) * (Rnew * dqnew)).Compile(realcompile=True, wait=True) * ds\n",
    "# forces from Lagrange parameters, in t_n and t_{n+t}:\n",
    "a += ( (tau/6*lambdanew ) * (Rnew*dqnew)).Compile(realcompile=True, wait=True) *dvert(\"A\")\n",
    "a += ( lambdahalf * (Rhalf*dqhalf)).Compile(realcompile=True, wait=True) *dvert(\"A\")\n",
    "a += ( (tau/6*mu ) * (MyGradBB(qold)*dqold)).Compile(realcompile=True, wait=True) *dvert(\"A\")\n",
    "\n",
    "# constraints and velocity constraints:\n",
    "a += ((qnew-P0)*dlambdanew).Compile(realcompile=True, wait=True) * dvert(\"A\")\n",
    "a += ((qhalf-P0)*dlambdahalf).Compile(realcompile=True, wait=True) * dvert(\"A\")\n",
    "a += ((phatnew)*dmu).Compile(realcompile=True, wait=True) * dvert(\"A\")\n",
    "\n",
    "# linear part of q is orthogonal:\n",
    "a += InnerProduct (Rhalf.trans*Rhalf-Id(3), drothalf).Compile(realcompile=True, wait=True) * ds\n",
    "a += InnerProduct (Rnew.trans*Rnew-Id(3), drotnew).Compile(realcompile=True, wait=True) * ds\n"
   ]
  },
  {
   "cell_type": "code",
   "execution_count": 10,
   "id": "e90a0915-f471-4379-89b3-d3721e081532",
   "metadata": {
    "scrolled": true
   },
   "outputs": [],
   "source": [
    "def init_values():\n",
    "    # tricky to set initial conditions, since mass matrix alone is singular \n",
    "    gf.vec[:] = 0\n",
    "    gfold.vec[:] = 0\n",
    "    qold.Set ( (x, y, z) )\n",
    "    gfphatnew.Set ( rho*Cross (omega0, CF((x,y,z))) , definedon=mesh.Boundaries(\".*\") )\n",
    "    \n",
    "    qs,dqs = P1space.TnT()\n",
    "    bfset = BilinearForm(qs*dqs*ds + qs.Operator(\"dy\")*dqs.Operator(\"dy\")*ds).Assemble()\n",
    "    lfset = LinearForm(CF((x,y,z))*dqs*ds + CF((0,1,0))*dqs.Operator(\"dy\")*ds).Assemble()\n",
    "    gfqhalf.vec[:] = bfset.mat.Inverse()*lfset.vec\n",
    "    gfqnew.vec[:] = bfset.mat.Inverse()*lfset.vec"
   ]
  },
  {
   "cell_type": "code",
   "execution_count": 11,
   "id": "c633e749-475a-43c6-8464-3b65869762ea",
   "metadata": {},
   "outputs": [
    {
     "data": {
      "application/vnd.jupyter.widget-view+json": {
       "model_id": "0b85692363d14e8e8c61ddd758f277d0",
       "version_major": 2,
       "version_minor": 0
      },
      "text/plain": [
       "WebGuiWidget(layout=Layout(height='50vh', width='100%'), value={'gui_settings': {}, 'ngsolve_version': '6.2.25…"
      ]
     },
     "metadata": {},
     "output_type": "display_data"
    },
    {
     "data": {
      "application/vnd.jupyter.widget-view+json": {
       "model_id": "a82109fe2d114932abc02f9d1e2447cc",
       "version_major": 2,
       "version_minor": 0
      },
      "text/plain": [
       "VBox(children=(HTML(value='t = 0'), HTML(value='')))"
      ]
     },
     "metadata": {},
     "output_type": "display_data"
    }
   ],
   "source": [
    "scene = Draw (gf.components[1], mesh, deformation=(gf.components[0]-CF((x,y,z))), center=(0,0,0), radius=1.2)\n",
    "\n",
    "tw = widgets.HTML(value='t = 0')\n",
    "progress = widgets.HTML(value=\"\")\n",
    "display(widgets.VBox([tw, progress]))"
   ]
  },
  {
   "cell_type": "code",
   "execution_count": 12,
   "id": "e219b06e-9d9a-49b8-8d80-6f9e30fbd557",
   "metadata": {},
   "outputs": [
    {
     "name": "stdout",
     "output_type": "stream",
     "text": [
      "766.7634037584871\n",
      "765.8036390938314\n",
      "766.2784522387833\n",
      "766.7976233188306\n",
      "767.1305079733096\n",
      "767.3154532375725\n",
      "767.4125603880303\n",
      "767.4622706758656\n"
     ]
    }
   ],
   "source": [
    "end_pos = []\n",
    "taus = [0.004 * 2**(1-n) for n in range(1, 9)]\n",
    "\n",
    "for d in taus:\n",
    "    tau.Set(d)\n",
    "    progress.value = \"<br>\".join([F\"&#10003 {r}\" for r in taus if r > tau.Get()] + [F'<b style=\"font-size:1.7em\"> {tau.Get()} </b>'] + [F\"{r}\" for r in taus if r < tau.Get()])\n",
    "    init_values()\n",
    "    t = 0\n",
    "    tt = []\n",
    "    Epott = []\n",
    "    Ekint = []\n",
    "    Et = []\n",
    "    axt, ayt, azt = [], [], []\n",
    "    while t < 1-1e-10:\n",
    "        gfold.vec[:] = gf.vec\n",
    "        Newton(a=a, u=gf, printing=False, maxerr=1e-8)\n",
    "        scene.Redraw()\n",
    "        t += tau.Get()\n",
    "        tw.value = F\"<b> t = { t:.2f} </b>\" # \"t = {t:.2f}\".format(t=t)\n",
    "        \n",
    "    end_pos.append(np.array([Integrate(gfqnew[i]*ds, mesh)/(4*b**2) for i in range(3)]))\n",
    "    print(Norm(gfmu)(mesh(0,1,0)))\n",
    "\n",
    "progress.value = \"<p style=font-size:1.7em;color:Chocolate>finished</p>\"   "
   ]
  },
  {
   "cell_type": "code",
   "execution_count": 13,
   "id": "81bf56e8-5c5d-4ba8-8efc-c89c2dfff3ec",
   "metadata": {},
   "outputs": [
    {
     "data": {
      "image/png": "[encoded data removed]",
      "text/plain": [
       "<Figure size 640x480 with 1 Axes>"
      ]
     },
     "metadata": {},
     "output_type": "display_data"
    }
   ],
   "source": [
    "# %matplotlib widget\n",
    "import matplotlib.pyplot as plt\n",
    "import pickle\n",
    "\n",
    "# end pos at tau = 0.001*2**(1-10)\n",
    "ref_val = pickle.loads(b'\\x80\\x04\\x95\\xa4\\x00\\x00\\x00\\x00\\x00\\x00\\x00]\\x94\\x8c\\x16numpy._core.multiarray\\x94\\x8c\\x0c_reconstruct\\x94\\x93\\x94\\x8c\\x05numpy\\x94\\x8c\\x07ndarray\\x94\\x93\\x94K\\x00\\x85\\x94C\\x01b\\x94\\x87\\x94R\\x94(K\\x01K\\x03\\x85\\x94h\\x04\\x8c\\x05dtype\\x94\\x93\\x94\\x8c\\x02f8\\x94\\x89\\x88\\x87\\x94R\\x94(K\\x03\\x8c\\x01<\\x94NNNJ\\xff\\xff\\xff\\xffJ\\xff\\xff\\xff\\xffK\\x00t\\x94b\\x89C\\x18*\\x97a\\x90\"0\\xc6?\\x10e/\\x12\\x9b{\\xe4?5\\xf3\\xa8\\xf5\\xa2\\xf3\\xe7\\xbf\\x94t\\x94ba.')\n",
    "\n",
    "end_errs = []\n",
    "for e in end_pos:\n",
    "    end_err = np.linalg.norm(ref_val - e, 2)\n",
    "    end_errs.append(end_err)\n",
    "\n",
    "plt.yscale(\"log\")\n",
    "plt.xscale(\"log\")\n",
    "plt.plot(taus, end_errs, label=\"benchmark errors\")\n",
    "plt.plot(taus, [100000*tau**4 for tau in taus], label=r\"$100000 \\cdot timestep^4$\")\n",
    "plt.legend()\n",
    "plt.xlabel(\"timestep\")\n",
    "plt.ylabel(\"error\")\n",
    "plt.show()"
   ]
  },
  {
   "cell_type": "code",
   "execution_count": null,
   "id": "7be88ed1-7dc6-49a0-b7d8-10bfe6034f3b",
   "metadata": {},
   "outputs": [],
   "source": []
  }
 ],
 "metadata": {
  "kernelspec": {
   "display_name": "Python 3 (ipykernel)",
   "language": "python",
   "name": "python3"
  },
  "language_info": {
   "codemirror_mode": {
    "name": "ipython",
    "version": 3
   },
   "file_extension": ".py",
   "mimetype": "text/x-python",
   "name": "python",
   "nbconvert_exporter": "python",
   "pygments_lexer": "ipython3",
   "version": "3.13.7"
  }
 },
 "nbformat": 4,
 "nbformat_minor": 5
}
