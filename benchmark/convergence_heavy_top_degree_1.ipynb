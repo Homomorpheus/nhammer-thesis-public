{
 "cells": [
  {
   "cell_type": "markdown",
   "id": "38aa0b69-42d0-4ce5-b5a3-5689d6cd3ba2",
   "metadata": {},
   "source": [
    "# Convergence benchmark: Heavy top - polynomial approximation of degree $1 = j := \\text{deg } q$\n",
    "\n",
    "see thesis -> Numerical experiments -> Degree $j = 1$"
   ]
  },
  {
   "cell_type": "code",
   "execution_count": 1,
   "id": "4f6fbae5-4fe8-40b0-adbd-0c77c95fcb85",
   "metadata": {},
   "outputs": [],
   "source": [
    "import ngsolve\n",
    "if ngsolve.__version__ < \"6.2.2405-28\": \n",
    "    raise Exception(\"NGSolve too old, pls run 'pip3 install --upgrade --pre ngsolve'\")"
   ]
  },
  {
   "cell_type": "code",
   "execution_count": 2,
   "id": "a3a84b91-4b86-4a61-b13a-eba70deb04c2",
   "metadata": {},
   "outputs": [],
   "source": [
    "from ngsolve import *\n",
    "from netgen.occ import *\n",
    "import ipywidgets as widgets\n",
    "from ngsolve.comp import GlobalSpace\n",
    "from ngsolve.webgui import Draw\n",
    "from ngsolve.solvers import Newton\n",
    "from ngsolve.comp import DifferentialSymbol\n",
    "import numpy as np"
   ]
  },
  {
   "cell_type": "markdown",
   "id": "36c293f0-a050-4346-9d03-f2b225fb5dbf",
   "metadata": {},
   "source": [
    "## System parameter setup"
   ]
  },
  {
   "cell_type": "code",
   "execution_count": 3,
   "id": "952534b9-70b8-4835-a20f-fbe01b030360",
   "metadata": {},
   "outputs": [],
   "source": [
    "mass = 15\n",
    "Jxx = Jzz = 0.234375\n",
    "Jyy = 0.468750\n",
    "omega0 = CF( (0,150,-4.61538) )"
   ]
  },
  {
   "cell_type": "code",
   "execution_count": 4,
   "id": "8e630462-ccdb-49c6-b440-f5d4604a7f4b",
   "metadata": {},
   "outputs": [],
   "source": [
    "b = sqrt(3/2 * Jyy/mass)\n",
    "rho = mass/(4*b*b)     # kg/ m**2"
   ]
  },
  {
   "cell_type": "code",
   "execution_count": 5,
   "id": "1e0ff78f-349d-48f5-a079-7683b2edf06d",
   "metadata": {},
   "outputs": [
    {
     "data": {
      "application/vnd.jupyter.widget-view+json": {
       "model_id": "6248763ac9bb40388fd4dca57ae4f4d5",
       "version_major": 2,
       "version_minor": 0
      },
      "text/plain": [
       "WebGuiWidget(layout=Layout(height='50vh', width='100%'), value={'gui_settings': {}, 'ngsolve_version': '6.2.25…"
      ]
     },
     "metadata": {},
     "output_type": "display_data"
    }
   ],
   "source": [
    "center = Pnt( (0,1,0) )\n",
    "disk = WorkPlane(Axes((0,1,0), Y)).RectangleC(2*b, 2*b).Face()\n",
    "shape = Glue ([disk, Segment( (0,0,0), (0,1,0)) ])\n",
    "shape.vertices.Min(Y).name=\"A\"\n",
    "mesh = Mesh(OCCGeometry(shape).GenerateMesh(maxh=3))\n",
    "Draw (mesh);"
   ]
  },
  {
   "cell_type": "markdown",
   "id": "68114f32-3263-44e4-8d8e-da8108d8fba9",
   "metadata": {},
   "source": [
    "## Finite element space setup"
   ]
  },
  {
   "cell_type": "code",
   "execution_count": 6,
   "id": "30a3a6a8-1d51-43d0-9999-c1f443d2d6f6",
   "metadata": {},
   "outputs": [],
   "source": [
    "# tangent space representation\n",
    "RBshapes = CF ( ( 1, 0, 0,\n",
    "                  0, 1, 0,\n",
    "                  0, 0, 1,\n",
    "                  y, -x, 0,\n",
    "                  0, z, -y,\n",
    "                  -z, 0, x) ).Reshape((6,3)).Compile()\n",
    "RBspace = GlobalSpace (mesh, order=1, basis = RBshapes)\n",
    "\n",
    "# basis of (equivalent to) symmetric matrices\n",
    "SYMshapes = CF ( ( 1, 0, 0, 0, 0, 0, 0, 0, 0,\n",
    "                   0, 0, 0, 0, 1, 0, 0, 0, 0,\n",
    "                   0, 0, 0, 0, 0, 0, 0, 0, 1,\n",
    "                   0, 1, 0, 1, 0, 0, 0, 0, 0,\n",
    "                   0, 0, 1, 0, 0, 0, 1, 0, 0,\n",
    "                   0, 0, 0, 0, 0, 1, 0, 1, 0) ).Reshape((6,9)).Compile()\n",
    "SYMspace = GlobalSpace (mesh, order=1, basis = SYMshapes)\n",
    "\n",
    "# position space\n",
    "P1shapes = CF ( ( 1, 0, 0,\n",
    "                  0, 1, 0,\n",
    "                  0, 0, 1,\n",
    "                  x, 0, 0,\n",
    "                  0, x, 0,\n",
    "                  0, 0, x,\n",
    "                  y, 0, 0,\n",
    "                  0, y, 0,\n",
    "                  0, 0, y,\n",
    "                  z, 0, 0,\n",
    "                  0, z, 0,\n",
    "                  0, 0, z)).Reshape((12,3)).Compile() # realcompile=True, wait=True)\n",
    "P1space = GlobalSpace (mesh, order=1, basis = P1shapes)\n",
    "P1space.AddOperator(\"dx\", VOL, P1shapes.Diff(x))\n",
    "P1space.AddOperator(\"dy\", VOL, P1shapes.Diff(y))\n",
    "P1space.AddOperator(\"dz\", VOL, P1shapes.Diff(z))\n",
    "\n",
    "def MyGrad(gf):\n",
    "    return CF( (gf.Operator(\"dx\"), gf.Operator(\"dy\"), gf.Operator(\"dz\") )).Reshape((3,3)).trans\n",
    "def MyGradB(gf):\n",
    "    return CF( (gf.Operator(\"dx\", BND), gf.Operator(\"dy\", BND), gf.Operator(\"dz\", BND))).Reshape((3,3)).trans\n",
    "def MyGradBB(gf):\n",
    "    return CF( (gf.Operator(\"dx\", BBBND), gf.Operator(\"dy\", BBBND), gf.Operator(\"dz\", BBBND))).Reshape((3,3)).trans\n",
    "              "
   ]
  },
  {
   "cell_type": "code",
   "execution_count": 7,
   "id": "b1c88848-2364-4b33-b20b-e51768a3ff90",
   "metadata": {},
   "outputs": [],
   "source": [
    "fesR = NumberSpace(mesh)\n",
    "\n",
    "fes = P1space * RBspace * fesR**3 * fesR**3\n",
    "festest = RBspace * RBspace * SYMspace * fesR**3 * fesR**3\n",
    "\n",
    "gfold = GridFunction(fes)\n",
    "gf = GridFunction(fes)\n",
    "\n",
    "# compared to notation from thesis:\n",
    "# q - initial position, phatold - initial momentum, (fa1old - unused), (fa2old - unused)\n",
    "qold, phatold, fa1old, fa2old = gfold.components\n",
    "gfq, gfphat, gffa1, gffa2 = gf.components\n",
    "\n",
    "# compared to notation from thesis:\n",
    "# q - new position, phat - new momentum, fa1 - lagrange parameter mu, fa2 - lagrange parameter lambda\n",
    "q, phat, fa1, fa2  = fes.TrialFunction()\n",
    "dq1, dq2, dlagsym, da, daprime = festest.TestFunction()\n",
    "\n",
    "dvert = DifferentialSymbol(BBBND)"
   ]
  },
  {
   "cell_type": "markdown",
   "id": "0ba29f0b-2d3c-4663-baa9-29f5d371140c",
   "metadata": {},
   "source": [
    "## The equations"
   ]
  },
  {
   "cell_type": "code",
   "execution_count": 8,
   "id": "b147d593-ff62-47e2-958d-457d74f0d78f",
   "metadata": {
    "scrolled": true
   },
   "outputs": [],
   "source": [
    "force = CF( (0,0,-9.81*rho) )\n",
    "dpointA = da\n",
    "dpointAprime = daprime\n",
    "\n",
    "P0 = CF( (0, 0, 0) )\n",
    "PA0 = CF( (0, 1, 0)) \n",
    "\n",
    "\n",
    "def setup_eqsys(tau: float) -> BilinearForm:    \n",
    "    \n",
    "    qold.Set ( (x, y, z) )\n",
    "\n",
    "    # rotational part of q at different points in time\n",
    "    Rnew = MyGrad(q)\n",
    "    Rold = MyGradB(qold)\n",
    "    Rmean = 0.5*(Rold+Rnew)\n",
    "\n",
    "    v = (q - qold)/tau\n",
    "    \n",
    "    a = BilinearForm(trialspace=fes, testspace=festest)\n",
    "\n",
    "\n",
    "    # What follows are the time stepper equations in the same general order as in the thesis.\n",
    "    \n",
    "    a += (((Rnew*phat-rho*v) - tau/2*force) * (Rnew*dq1)).Compile(realcompile=True, wait=True) * ds\n",
    "    a += (((rho*v-Rold*phatold) - tau/2*force) * (Rold*dq2)).Compile(realcompile=True, wait=True) * ds\n",
    "    # forces from Lagrange parameters, in t_n and t_{n+t}:\n",
    "    a += ( (- tau/2*fa1 ) * (Rnew*dq1)).Compile(realcompile=True, wait=True) *dvert(\"A\")\n",
    "    a += ( (- tau/2*fa2 ) * (MyGradBB(qold)*dq2)).Compile(realcompile=True, wait=True) *dvert(\"A\")\n",
    "    \n",
    "    # constraints and velocity constraints:\n",
    "    a += ((q-P0)*dpointA).Compile(realcompile=True, wait=True) * dvert(\"A\")\n",
    "    a += ((phat)*dpointAprime).Compile(realcompile=True, wait=True) * dvert(\"A\")\n",
    "    \n",
    "    # rotational part of q is orthogonal:\n",
    "    a += InnerProduct (Rnew.trans*Rnew-Id(3), dlagsym).Compile(realcompile=True, wait=True) * ds \n",
    "\n",
    "    return a"
   ]
  },
  {
   "cell_type": "code",
   "execution_count": 9,
   "id": "e90a0915-f471-4379-89b3-d3721e081532",
   "metadata": {
    "scrolled": true
   },
   "outputs": [],
   "source": [
    "def init_values():\n",
    "    # tricky to set initial conditions, since mass matrix alone is singular \n",
    "    gf.vec[:] = 0\n",
    "    gfphat.Set ( rho*Cross (omega0, CF((x,y,z))) , definedon=mesh.Boundaries(\".*\") )\n",
    "    \n",
    "    qs,dqs = P1space.TnT()\n",
    "    bfset = BilinearForm(qs*dqs*ds + qs.Operator(\"dy\")*dqs.Operator(\"dy\")*ds).Assemble()\n",
    "    lfset = LinearForm(CF((x,y,z))*dqs*ds + CF((0,1,0))*dqs.Operator(\"dy\")*ds).Assemble()\n",
    "    gfq.vec[:] = bfset.mat.Inverse()*lfset.vec"
   ]
  },
  {
   "cell_type": "code",
   "execution_count": 10,
   "id": "58ba2303-e4be-45ca-8fd9-05746ec1c85e",
   "metadata": {},
   "outputs": [
    {
     "data": {
      "application/vnd.jupyter.widget-view+json": {
       "model_id": "0f356006b84344a69fd7b0af6ccba68a",
       "version_major": 2,
       "version_minor": 0
      },
      "text/plain": [
       "WebGuiWidget(layout=Layout(height='50vh', width='100%'), value={'gui_settings': {}, 'ngsolve_version': '6.2.25…"
      ]
     },
     "metadata": {},
     "output_type": "display_data"
    },
    {
     "data": {
      "application/vnd.jupyter.widget-view+json": {
       "model_id": "a297c0656c9741d798c00b06af475f8c",
       "version_major": 2,
       "version_minor": 0
      },
      "text/plain": [
       "Text(value='t = 0')"
      ]
     },
     "metadata": {},
     "output_type": "display_data"
    }
   ],
   "source": [
    "scene = Draw (gf.components[1], mesh, deformation=(gf.components[0]-CF((x,y,z))), center=(0,0,0), radius=1.2)\n",
    "\n",
    "tw = widgets.Text(value='t = 0')\n",
    "display(tw)"
   ]
  },
  {
   "cell_type": "code",
   "execution_count": 11,
   "id": "e219b06e-9d9a-49b8-8d80-6f9e30fbd557",
   "metadata": {},
   "outputs": [
    {
     "name": "stdout",
     "output_type": "stream",
     "text": [
      "0.004\n",
      "0.002\n",
      "0.001\n",
      "0.0005\n",
      "0.00025\n",
      "0.000125\n",
      "6.25e-05\n",
      "3.125e-05\n",
      "[array([ 0.17592345,  0.62805988, -0.75801829]), array([ 0.17396077,  0.63733718, -0.75069233]), array([ 0.17349672,  0.63941381, -0.74903196]), array([ 0.17338207,  0.63992068, -0.74862553]), array([ 0.17335348,  0.64004666, -0.74852444]), array([ 0.17334634,  0.64007811, -0.7484992 ]), array([ 0.17334456,  0.64008597, -0.74849289]), array([ 0.17334411,  0.64008794, -0.74849132])]\n"
     ]
    }
   ],
   "source": [
    "end_pos = []\n",
    "taus = [0.004 * 2**(1-n) for n in range(1, 9)]\n",
    "for tau in taus:\n",
    "    print(tau)\n",
    "    a = setup_eqsys(tau)\n",
    "    init_values()\n",
    "    t = 0\n",
    "    while t < 1-1e-10:\n",
    "        gfold.vec[:] = gf.vec\n",
    "        Newton(a=a, u=gf, printing=False, maxerr=1e-8)\n",
    "        scene.Redraw()\n",
    "        t += tau\n",
    "        tw.value = \"t = {t:.2f}\".format(t=t)\n",
    "        \n",
    "    end_pos.append(np.array([Integrate(gfq[i]*ds, mesh)/(4*b**2) for i in range(3)]))\n",
    "\n",
    "print(end_pos)"
   ]
  },
  {
   "cell_type": "code",
   "execution_count": 12,
   "id": "ebad08f6-58c8-432f-8a96-7c6e6b93efd1",
   "metadata": {},
   "outputs": [
    {
     "data": {
      "image/png": "[encoded data removed]",
      "text/plain": [
       "<Figure size 640x480 with 1 Axes>"
      ]
     },
     "metadata": {},
     "output_type": "display_data"
    }
   ],
   "source": [
    "import matplotlib.pyplot as plt\n",
    "import pickle\n",
    "\n",
    "# end pos at tau = 0.001*2**(1-10), calculated with a high time step\n",
    "ref_val = pickle.loads(b'\\x80\\x04\\x95\\xa4\\x00\\x00\\x00\\x00\\x00\\x00\\x00]\\x94\\x8c\\x16numpy._core.multiarray\\x94\\x8c\\x0c_reconstruct\\x94\\x93\\x94\\x8c\\x05numpy\\x94\\x8c\\x07ndarray\\x94\\x93\\x94K\\x00\\x85\\x94C\\x01b\\x94\\x87\\x94R\\x94(K\\x01K\\x03\\x85\\x94h\\x04\\x8c\\x05dtype\\x94\\x93\\x94\\x8c\\x02f8\\x94\\x89\\x88\\x87\\x94R\\x94(K\\x03\\x8c\\x01<\\x94NNNJ\\xff\\xff\\xff\\xffJ\\xff\\xff\\xff\\xffK\\x00t\\x94b\\x89C\\x18*\\x97a\\x90\"0\\xc6?\\x10e/\\x12\\x9b{\\xe4?5\\xf3\\xa8\\xf5\\xa2\\xf3\\xe7\\xbf\\x94t\\x94ba.')\n",
    "\n",
    "end_errs = []\n",
    "for e in end_pos:\n",
    "    end_err = np.linalg.norm(ref_val - e, 2)\n",
    "    end_errs.append(end_err)\n",
    "\n",
    "plt.yscale(\"log\")\n",
    "plt.xscale(\"log\")\n",
    "plt.ylim(1e-12, 1)\n",
    "plt.plot(taus, end_errs, label=\"benchmark errors\")\n",
    "plt.plot(taus, [tau**2 for tau in taus], label=\"timestep²\")\n",
    "plt.legend()\n",
    "plt.xlabel(\"timestep\")\n",
    "plt.ylabel(\"error\")\n",
    "plt.show()"
   ]
  },
  {
   "cell_type": "code",
   "execution_count": null,
   "id": "578def41-46e3-4b4d-850e-3afa895e2881",
   "metadata": {},
   "outputs": [],
   "source": []
  }
 ],
 "metadata": {
  "kernelspec": {
   "display_name": "Python 3 (ipykernel)",
   "language": "python",
   "name": "python3"
  },
  "language_info": {
   "codemirror_mode": {
    "name": "ipython",
    "version": 3
   },
   "file_extension": ".py",
   "mimetype": "text/x-python",
   "name": "python",
   "nbconvert_exporter": "python",
   "pygments_lexer": "ipython3",
   "version": "3.13.7"
  }
 },
 "nbformat": 4,
 "nbformat_minor": 5
}
