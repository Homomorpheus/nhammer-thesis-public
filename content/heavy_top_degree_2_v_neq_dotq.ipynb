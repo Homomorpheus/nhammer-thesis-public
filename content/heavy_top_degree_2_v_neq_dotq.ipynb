{
 "cells": [
  {
   "cell_type": "markdown",
   "id": "38aa0b69-42d0-4ce5-b5a3-5689d6cd3ba2",
   "metadata": {},
   "source": [
    "# Heavy top - polynomial approximation of degree $2 = j := \\text{deg } q$, with $v \\neq \\dot{q}$\n",
    "\n",
    "see thesis -> Numerical experiments -> Degree $j = 2$ -> Version 2: Adjustments for fourth order accuracy\n",
    "\n",
    "This notebook also includes the energy conservation benchmark for $j = 2$, $v = \\dot{q}$."
   ]
  },
  {
   "cell_type": "code",
   "execution_count": 1,
   "id": "4f6fbae5-4fe8-40b0-adbd-0c77c95fcb85",
   "metadata": {},
   "outputs": [],
   "source": [
    "import ngsolve\n",
    "if ngsolve.__version__ < \"6.2.2405-28\": \n",
    "    raise Exception(\"NGSolve too old, pls run 'pip3 install --upgrade --pre ngsolve'\")"
   ]
  },
  {
   "cell_type": "code",
   "execution_count": 2,
   "id": "a3a84b91-4b86-4a61-b13a-eba70deb04c2",
   "metadata": {},
   "outputs": [],
   "source": [
    "from ngsolve import *\n",
    "from netgen.occ import *\n",
    "import ipywidgets as widgets\n",
    "from ngsolve.comp import GlobalSpace\n",
    "from ngsolve.webgui import Draw\n",
    "from ngsolve.solvers import Newton\n",
    "from ngsolve.comp import DifferentialSymbol\n",
    "import numpy as np"
   ]
  },
  {
   "cell_type": "markdown",
   "id": "c371c96e-ec64-4b63-8115-9c7d0c7759b5",
   "metadata": {
    "jp-MarkdownHeadingCollapsed": true
   },
   "source": [
    "## System parameter setup"
   ]
  },
  {
   "cell_type": "code",
   "execution_count": 3,
   "id": "952534b9-70b8-4835-a20f-fbe01b030360",
   "metadata": {},
   "outputs": [],
   "source": [
    "mass = 15\n",
    "Jxx = Jzz = 0.234375\n",
    "Jyy = 0.468750\n",
    "omega0 = CF( (0,150,-4.61538) )"
   ]
  },
  {
   "cell_type": "code",
   "execution_count": 4,
   "id": "8e630462-ccdb-49c6-b440-f5d4604a7f4b",
   "metadata": {},
   "outputs": [],
   "source": [
    "b = sqrt(3/2 * Jyy/mass)\n",
    "rho = mass/(4*b*b)     # kg/ m**2"
   ]
  },
  {
   "cell_type": "code",
   "execution_count": 5,
   "id": "1e0ff78f-349d-48f5-a079-7683b2edf06d",
   "metadata": {},
   "outputs": [
    {
     "data": {
      "application/vnd.jupyter.widget-view+json": {
       "model_id": "778e58cf1be34a77be0cff13e5bd786e",
       "version_major": 2,
       "version_minor": 0
      },
      "text/plain": [
       "WebGuiWidget(layout=Layout(height='50vh', width='100%'), value={'gui_settings': {}, 'ngsolve_version': '6.2.25…"
      ]
     },
     "metadata": {},
     "output_type": "display_data"
    }
   ],
   "source": [
    "center = Pnt( (0,1,0) )\n",
    "disk = WorkPlane(Axes((0,1,0), Y)).RectangleC(2*b, 2*b).Face()\n",
    "shape = Glue ([disk, Segment( (0,0,0), (0,1,0)) ])\n",
    "shape.vertices.Min(Y).name=\"A\"\n",
    "mesh = Mesh(OCCGeometry(shape).GenerateMesh(maxh=3))\n",
    "Draw (mesh);"
   ]
  },
  {
   "cell_type": "markdown",
   "id": "3f085802-017b-4f89-b8f2-98bc5ac3fd86",
   "metadata": {
    "jp-MarkdownHeadingCollapsed": true
   },
   "source": [
    "## Finite element space setup"
   ]
  },
  {
   "cell_type": "code",
   "execution_count": 6,
   "id": "30a3a6a8-1d51-43d0-9999-c1f443d2d6f6",
   "metadata": {},
   "outputs": [],
   "source": [
    "# tangent space representation\n",
    "RBshapes = CF ( ( 1, 0, 0,\n",
    "                  0, 1, 0,\n",
    "                  0, 0, 1,\n",
    "                  y, -x, 0,\n",
    "                  0, z, -y,\n",
    "                  -z, 0, x) ).Reshape((6,3)).Compile() # realcompile=True, wait=True)\n",
    "RBspace = GlobalSpace (mesh, order=1, basis = RBshapes)\n",
    "\n",
    "# basis of (equivalent to) symmetric matrices\n",
    "SYMshapes = CF ( ( 1, 0, 0, 0, 0, 0, 0, 0, 0,\n",
    "                   0, 0, 0, 0, 1, 0, 0, 0, 0,\n",
    "                   0, 0, 0, 0, 0, 0, 0, 0, 1,\n",
    "                   0, 1, 0, 1, 0, 0, 0, 0, 0,\n",
    "                   0, 0, 1, 0, 0, 0, 1, 0, 0,\n",
    "                   0, 0, 0, 0, 0, 1, 0, 1, 0) ).Reshape((6,9)).Compile() # realcompile=True, wait=True)\n",
    "SYMspace = GlobalSpace (mesh, order=1, basis = SYMshapes)\n",
    "\n",
    "# position space\n",
    "P1shapes = CF ( ( 1, 0, 0,\n",
    "                  0, 1, 0,\n",
    "                  0, 0, 1,\n",
    "                  x, 0, 0,\n",
    "                  0, x, 0,\n",
    "                  0, 0, x,\n",
    "                  y, 0, 0,\n",
    "                  0, y, 0,\n",
    "                  0, 0, y,\n",
    "                  z, 0, 0,\n",
    "                  0, z, 0,\n",
    "                  0, 0, z)).Reshape((12,3)).Compile() # realcompile=True, wait=True)\n",
    "P1space = GlobalSpace (mesh, order=1, basis = P1shapes)\n",
    "P1space.AddOperator(\"dx\", VOL, P1shapes.Diff(x))\n",
    "P1space.AddOperator(\"dy\", VOL, P1shapes.Diff(y))\n",
    "P1space.AddOperator(\"dz\", VOL, P1shapes.Diff(z))\n",
    "\n",
    "def MyGrad(gf):\n",
    "    return CF( (gf.Operator(\"dx\"), gf.Operator(\"dy\"), gf.Operator(\"dz\") )).Reshape((3,3)).trans\n",
    "def MyGradB(gf):\n",
    "    return CF( (gf.Operator(\"dx\", BND), gf.Operator(\"dy\", BND), gf.Operator(\"dz\", BND))).Reshape((3,3)).trans\n",
    "def MyGradBB(gf):\n",
    "    return CF( (gf.Operator(\"dx\", BBBND), gf.Operator(\"dy\", BBBND), gf.Operator(\"dz\", BBBND))).Reshape((3,3)).trans\n",
    "              "
   ]
  },
  {
   "cell_type": "code",
   "execution_count": 7,
   "id": "b1c88848-2364-4b33-b20b-e51768a3ff90",
   "metadata": {},
   "outputs": [],
   "source": [
    "fesR = NumberSpace(mesh)\n",
    "\n",
    "fes = P1space * P1space * RBspace * RBspace * RBspace * fesR**3 * fesR**3 * fesR**3\n",
    "festest = RBspace * RBspace * RBspace * RBspace * RBspace * SYMspace * SYMspace * fesR**3 * fesR**3 * fesR**3\n",
    "\n",
    "gfold = GridFunction(fes)\n",
    "gf = GridFunction(fes)\n",
    "\n",
    "qhalfold, qold, phatold, voldold, vnewold, lambdahalfold, lambdanewold, muold = gfold.components\n",
    "gfqhalf, gfqnew, gfphatnew, gfvold, gfvnew, gflambdahalf, gflambdanew, gfmu = gf.components\n",
    "\n",
    "qhalf, qnew, phatnew, vold, vnew, lambdahalf, lambdanew, mu = fes.TrialFunction()\n",
    "dpold, dpnew, dqold, dqhalf, dqnew, drothalf, drotnew, dlambdahalf, dlambdanew, dmu = festest.TestFunction()\n",
    "\n",
    "dvert = DifferentialSymbol(BBBND)"
   ]
  },
  {
   "cell_type": "code",
   "execution_count": 8,
   "id": "05620081-9948-4c07-b30a-71e6ecfd16b3",
   "metadata": {},
   "outputs": [],
   "source": [
    "# derivative of a quadratic polynomial given in Lagrange basis\n",
    "def quadratic_deriv(oldval, midval, newval, oldt, tau, t):\n",
    "    return (oldval * 2 * (2*t - (2*oldt + 1.5*tau))\n",
    "            - midval * 4 * (2*t - (2*oldt + tau))\n",
    "            + newval * 2 * (2*t - (2*oldt + 0.5*tau)))/(tau**2)\n",
    "    "
   ]
  },
  {
   "cell_type": "markdown",
   "id": "fcafa2df-749e-4ea4-99ab-69c9817cbb41",
   "metadata": {},
   "source": [
    "## The equations"
   ]
  },
  {
   "cell_type": "code",
   "execution_count": 9,
   "id": "b147d593-ff62-47e2-958d-457d74f0d78f",
   "metadata": {
    "scrolled": true
   },
   "outputs": [],
   "source": [
    "force = CF( (0,0,-9.81*rho) )\n",
    "P0 = CF( (0, 0, 0) )\n",
    "\n",
    "t = 0\n",
    "\n",
    "qold.Set ( (x, y, z) )\n",
    "gfphatnew.Set ( rho*Cross (omega0, CF((x,y,z))) , definedon=mesh.Boundaries(\".*\") )\n",
    "\n",
    "# time step size\n",
    "tau = 0.004\n",
    "\n",
    "# rotational part of q at different points in time\n",
    "Rnew = MyGrad(qnew)\n",
    "Rhalf = MyGrad(qhalf)\n",
    "Rold = MyGrad(qold)\n",
    "\n",
    "\n",
    "a = BilinearForm(trialspace=fes, testspace=festest)\n",
    "\n",
    "\n",
    "# What follows are the time stepper equations.\n",
    "\n",
    "# helper equations: dot q = v\n",
    "a += (1/6*(quadratic_deriv(qold, qhalf, qnew, t, tau, t) - Rold*vold) * (Rold*dpold)) * ds\n",
    "a += (4/6*(quadratic_deriv(qold, qhalf, qnew, t, tau, t+tau/2) - Rhalf*(vold+vnew)/2) * (Rhalf*(dpnew+dpold)/2)) * ds\n",
    "a += (1/6*(quadratic_deriv(qold, qhalf, qnew, t, tau, t+tau) - Rnew*vnew) * (Rnew*dpnew)) * ds\n",
    "\n",
    "# helper equations: p = rho*v\n",
    "pold = rho*vold\n",
    "pnew = rho*vnew\n",
    "\n",
    "# δq: dot p = f\n",
    "phalf = (pnew + pold)/2\n",
    "a += ((tau/6 * (force - quadratic_deriv(Rold, Rhalf, Rnew, t, tau, t)*pold - Rold*(pnew - pold)/tau) - Rold*(pold - phatold)) * (Rold * dqold)) * ds\n",
    "a += ((force - quadratic_deriv(Rold, Rhalf, Rnew, t, tau, t + tau/2)*phalf - Rhalf*(pnew - pold)/tau) * (Rhalf*dqhalf)) * ds\n",
    "a += ((tau/6 * (force - quadratic_deriv(Rold, Rhalf, Rnew, t, tau, t + tau)*pnew - Rnew*(pnew - pold)/tau) + Rnew*(pnew - phatnew)) * (Rnew * dqnew)) * ds\n",
    "# forces from Lagrange parameters, in t_n and t_{n+t}:\n",
    "a += ( (tau/6*lambdanew ) * (Rnew*dqnew)) *dvert(\"A\")\n",
    "a += ( lambdahalf * (Rhalf*dqhalf)) *dvert(\"A\")\n",
    "a += ( (tau/6*mu ) * (MyGradBB(qold)*dqold)) *dvert(\"A\")\n",
    "\n",
    "# constraints and velocity constraints:\n",
    "a += ((qnew-P0)*dlambdanew) * dvert(\"A\")\n",
    "a += ((qhalf-P0)*dlambdahalf) * dvert(\"A\")\n",
    "a += ((phatnew)*dmu) * dvert(\"A\")\n",
    "\n",
    "# linear part of q is orthogonal:\n",
    "a += InnerProduct (Rhalf.trans*Rhalf-Id(3), drothalf) * ds\n",
    "a += InnerProduct (Rnew.trans*Rnew-Id(3), drotnew) * ds\n"
   ]
  },
  {
   "cell_type": "code",
   "execution_count": 10,
   "id": "e90a0915-f471-4379-89b3-d3721e081532",
   "metadata": {
    "scrolled": true
   },
   "outputs": [],
   "source": [
    "def init_values():\n",
    "    # tricky to set initial conditions, since mass matrix alone is singular \n",
    "    gf.vec[:] = 0\n",
    "    gfold.vec[:] = 0\n",
    "    qold.Set ( (x, y, z) )\n",
    "    gfphatnew.Set ( rho*Cross (omega0, CF((x,y,z))) , definedon=mesh.Boundaries(\".*\") )\n",
    "    \n",
    "    qs,dqs = P1space.TnT()\n",
    "    bfset = BilinearForm(qs*dqs*ds + qs.Operator(\"dy\")*dqs.Operator(\"dy\")*ds).Assemble()\n",
    "    lfset = LinearForm(CF((x,y,z))*dqs*ds + CF((0,1,0))*dqs.Operator(\"dy\")*ds).Assemble()\n",
    "    gfqhalf.vec[:] = bfset.mat.Inverse()*lfset.vec\n",
    "    gfqnew.vec[:] = bfset.mat.Inverse()*lfset.vec"
   ]
  },
  {
   "cell_type": "code",
   "execution_count": 11,
   "id": "c633e749-475a-43c6-8464-3b65869762ea",
   "metadata": {},
   "outputs": [
    {
     "data": {
      "application/vnd.jupyter.widget-view+json": {
       "model_id": "baf08d99ab004a77992ac146443d1551",
       "version_major": 2,
       "version_minor": 0
      },
      "text/plain": [
       "WebGuiWidget(layout=Layout(height='50vh', width='100%'), value={'gui_settings': {}, 'ngsolve_version': '6.2.25…"
      ]
     },
     "metadata": {},
     "output_type": "display_data"
    },
    {
     "data": {
      "application/vnd.jupyter.widget-view+json": {
       "model_id": "b270004fa5b747aa9d9b98782699723b",
       "version_major": 2,
       "version_minor": 0
      },
      "text/plain": [
       "VBox(children=(HTML(value='t = 0'), HTML(value='')))"
      ]
     },
     "metadata": {},
     "output_type": "display_data"
    }
   ],
   "source": [
    "scene = Draw (gf.components[1], mesh, deformation=(gf.components[0]-CF((x,y,z))), center=(0,0,0), radius=1.2)\n",
    "\n",
    "tw = widgets.HTML(value='t = 0')\n",
    "progress = widgets.HTML(value=\"\")\n",
    "display(widgets.VBox([tw, progress]))"
   ]
  },
  {
   "cell_type": "code",
   "execution_count": 12,
   "id": "e219b06e-9d9a-49b8-8d80-6f9e30fbd557",
   "metadata": {},
   "outputs": [],
   "source": [
    "init_values()\n",
    "t = 0\n",
    "tt = []\n",
    "Epott = []\n",
    "Ekint = []\n",
    "Et = []\n",
    "axt, ayt, azt = [], [], []\n",
    "while t < 1-1e-10:\n",
    "    gfold.vec[:] = gf.vec\n",
    "    Newton(a=a, u=gf, printing=False, maxerr=1e-8)\n",
    "    scene.Redraw()\n",
    "    t += tau\n",
    "    tw.value = F\"<b> t = { t:.2f} </b>\"\n",
    "    Epot = -Integrate (gfqnew*force*ds, mesh)\n",
    "    Ekin = Integrate (rho/2*gfvnew*gfvnew*ds, mesh)\n",
    "    tt.append(t)\n",
    "    Epott.append(Epot)\n",
    "    Ekint.append(Ekin)\n",
    "    axt.append (Integrate(gfqnew[0]*ds, mesh)/(4*b**2))\n",
    "    ayt.append (Integrate(gfqnew[1]*ds, mesh)/(4*b**2))\n",
    "    azt.append (Integrate(gfqnew[2]*ds, mesh)/(4*b**2))\n",
    "    Et.append(Epot+Ekin)  "
   ]
  },
  {
   "cell_type": "code",
   "execution_count": 13,
   "id": "81bf56e8-5c5d-4ba8-8efc-c89c2dfff3ec",
   "metadata": {},
   "outputs": [
    {
     "data": {
      "image/png": "[encoded data removed]",
      "text/plain": [
       "<Figure size 640x480 with 1 Axes>"
      ]
     },
     "metadata": {},
     "output_type": "display_data"
    },
    {
     "name": "stdout",
     "output_type": "stream",
     "text": [
      "0.17373706740724817 0.6383400646612083 -0.7498915876692083\n"
     ]
    }
   ],
   "source": [
    "import matplotlib.pyplot as plt\n",
    "\n",
    "plt.plot (tt, axt, label=\"x\")\n",
    "plt.plot (tt, ayt, label=\"y\")\n",
    "plt.plot (tt, azt, label=\"z\")\n",
    "plt.legend()\n",
    "plt.show()\n",
    "\n",
    "print (axt[-1], ayt[-1], azt[-1])\n"
   ]
  },
  {
   "cell_type": "code",
   "execution_count": null,
   "id": "7402066b-08f2-49d9-8064-4e19136d0c07",
   "metadata": {},
   "outputs": [],
   "source": []
  }
 ],
 "metadata": {
  "kernelspec": {
   "display_name": "Python 3 (ipykernel)",
   "language": "python",
   "name": "python3"
  },
  "language_info": {
   "codemirror_mode": {
    "name": "ipython",
    "version": 3
   },
   "file_extension": ".py",
   "mimetype": "text/x-python",
   "name": "python",
   "nbconvert_exporter": "python",
   "pygments_lexer": "ipython3",
   "version": "3.13.7"
  }
 },
 "nbformat": 4,
 "nbformat_minor": 5
}
